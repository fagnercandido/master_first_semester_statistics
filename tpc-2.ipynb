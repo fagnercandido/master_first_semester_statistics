{
 "cells": [
  {
   "cell_type": "markdown",
   "id": "d0bdc5d1",
   "metadata": {},
   "source": [
    "As notas dos alunos no exame Nacional de Portugues em 2020 seguiram a distribuição Normal com a média de 12 valores e o desvio padrão de 3,3 valores. O exame foi feito por 36.622 alunos. Estime\n",
    "\n",
    "a) O número dos alunos com a nota negativa (menos que 10 valores)\n",
    "\n",
    "b) O número dos alunos com a nota maior que 18 valores."
   ]
  },
  {
   "cell_type": "markdown",
   "id": "371d06b5",
   "metadata": {},
   "source": [
    "Média = 12\n",
    "\n",
    "Desvio Padrão = 3,3"
   ]
  },
  {
   "cell_type": "code",
   "execution_count": 5,
   "id": "d1521d91",
   "metadata": {},
   "outputs": [
    {
     "data": {
      "text/plain": [
       "0.2277627455184945"
      ]
     },
     "execution_count": 5,
     "metadata": {},
     "output_type": "execute_result"
    }
   ],
   "source": [
    "# import required libraries\n",
    "from scipy.stats import norm\n",
    "import numpy as np\n",
    "\n",
    "0.5-norm(loc = 12 , scale = 3.3).cdf(10)"
   ]
  },
  {
   "cell_type": "code",
   "execution_count": 10,
   "id": "f520fba4",
   "metadata": {},
   "outputs": [
    {
     "data": {
      "text/plain": [
       "0.03451817399720758"
      ]
     },
     "execution_count": 10,
     "metadata": {},
     "output_type": "execute_result"
    }
   ],
   "source": [
    "1-norm(loc = 12 , scale = 3.3).cdf(18)"
   ]
  }
 ],
 "metadata": {
  "kernelspec": {
   "display_name": "Python 3 (ipykernel)",
   "language": "python",
   "name": "python3"
  },
  "language_info": {
   "codemirror_mode": {
    "name": "ipython",
    "version": 3
   },
   "file_extension": ".py",
   "mimetype": "text/x-python",
   "name": "python",
   "nbconvert_exporter": "python",
   "pygments_lexer": "ipython3",
   "version": "3.9.7"
  }
 },
 "nbformat": 4,
 "nbformat_minor": 5
}
