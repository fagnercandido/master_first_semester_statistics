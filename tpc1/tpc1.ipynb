{
 "cells": [
  {
   "cell_type": "markdown",
   "id": "394ccfee",
   "metadata": {},
   "source": [
    "##Lista de Notas"
   ]
  },
  {
   "cell_type": "code",
   "execution_count": 2,
   "id": "9d31805b",
   "metadata": {},
   "outputs": [],
   "source": [
    "notas = [12, 18, 3, 16, 5, 12, 5, 8, 6, 3, 5, 12, 11, 4, 6, 7, 14, 5, 4, 12, 11, 5, 4, 8, 10, 12, 7, 9, 10, 4, 3, 8, 5, 3, 5, 14, 5, 18, 3, 13, 5, 7, 3, 5, 17, 18, 11, 3, 8, 6, 10, 2, 3, 15, 5]"
   ]
  },
  {
   "cell_type": "code",
   "execution_count": 23,
   "id": "bb0fe84b",
   "metadata": {},
   "outputs": [
    {
     "name": "stdout",
     "output_type": "stream",
     "text": [
      "8.054545454545455 é a média\n",
      "4.564022680739331 é o desvio padrão\n",
      "7 é a mediana\n",
      "[5.0, 7.0, 12.0] são os quartis\n",
      "[18, 2] é a amplitude\n",
      "6.5 é a amplitude interquartil\n"
     ]
    },
    {
     "data": {
      "image/png": "[encoded data removed]",
      "text/plain": [
       "<Figure size 432x288 with 1 Axes>"
      ]
     },
     "metadata": {
      "needs_background": "light"
     },
     "output_type": "display_data"
    },
    {
     "name": "stdout",
     "output_type": "stream",
     "text": [
      "Counter({5: 11, 3: 8, 12: 5, 8: 4, 4: 4, 18: 3, 6: 3, 11: 3, 7: 3, 10: 3, 14: 2, 16: 1, 9: 1, 13: 1, 17: 1, 2: 1, 15: 1})\n",
      "5 é a moda\n",
      "kurtosis -0.5958656321489331\n",
      "skewness0.7051310748164635\n"
     ]
    },
    {
     "data": {
      "image/png": "[encoded data removed]",
      "text/plain": [
       "<Figure size 432x288 with 1 Axes>"
      ]
     },
     "metadata": {
      "needs_background": "light"
     },
     "output_type": "display_data"
    }
   ],
   "source": [
    "import statistics\n",
    "import numpy as np\n",
    "import matplotlib.pyplot as plt\n",
    "import collections\n",
    "from scipy.stats import kurtosis, skew\n",
    "\n",
    "#a - média\n",
    "media = statistics.mean(notas)\n",
    "print(f\"{media} é a média\")\n",
    "\n",
    "#b - desvio padrão\n",
    "desvio_padrao = statistics.stdev(notas)\n",
    "print(f\"{desvio_padrao} é o desvio padrão\")\n",
    "\n",
    "#c - a mediana e os quartis\n",
    "mediana = statistics.median(notas)\n",
    "quartis = statistics.quantiles(notas, n = 4)\n",
    "print(f\"{mediana} é a mediana\")\n",
    "print(f\"{quartis} são os quartis\")\n",
    "\n",
    "#d - a amplitude e a amplitude interquartile \n",
    "amplitude = [max(notas), min(notas)]\n",
    "print(f\"{amplitude} é a amplitude\")\n",
    "q3, q1 = np.percentile(notas, [75 ,25])\n",
    "iqr = q3 - q1\n",
    "print(f\"{iqr} é a amplitude interquartil\")\n",
    "\n",
    "#e - os outliers e o diagrama de caixa (the outliers and the box diagram)\n",
    "plt.boxplot(notas)\n",
    "plt.show()\n",
    "\n",
    "#f - a tabela de distribuição de frequências das notas (the frequency distribution table of the grades)\n",
    "tabela_distribuicao = collections.Counter(notas)\n",
    "print(tabela_distribuicao)\n",
    "\n",
    "#g - a moda\n",
    "moda = statistics.mode(notas)\n",
    "print(f\"{moda} é a moda\")\n",
    "\n",
    "#h - o histograma correspondente\n",
    "%matplotlib inline\n",
    "plt.hist(notas, density=True, bins=30)\n",
    "\n",
    "#i - os coeficientes de asimetria e de achatamento (the skew and the kurtosis).\n",
    "print('kurtosis {}'.format( kurtosis(notas) ))\n",
    "print('skewness{}'.format( skew(notas) ))"
   ]
  },
  {
   "cell_type": "code",
   "execution_count": null,
   "id": "8cd8f456",
   "metadata": {},
   "outputs": [],
   "source": []
  }
 ],
 "metadata": {
  "kernelspec": {
   "display_name": "Python 3 (ipykernel)",
   "language": "python",
   "name": "python3"
  },
  "language_info": {
   "codemirror_mode": {
    "name": "ipython",
    "version": 3
   },
   "file_extension": ".py",
   "mimetype": "text/x-python",
   "name": "python",
   "nbconvert_exporter": "python",
   "pygments_lexer": "ipython3",
   "version": "3.9.7"
  }
 },
 "nbformat": 4,
 "nbformat_minor": 5
}
